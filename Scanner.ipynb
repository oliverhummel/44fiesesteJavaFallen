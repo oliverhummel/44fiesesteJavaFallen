{
 "cells": [
  {
   "cell_type": "code",
   "execution_count": 1,
   "metadata": {},
   "outputs": [
    {
     "name": "stdout",
     "output_type": "stream",
     "text": [
      "Bitte eine Zeichenkette eingeben: Hallo\n",
      "Ihre Eingabe war: Hallo\n"
     ]
    }
   ],
   "source": [
    "// in vollständigen Programmen nicht vergessen: import java.util.Scanner;\n",
    "\n",
    "Scanner sc = new Scanner(System.in);\n",
    "\n",
    "System.out.print(\"Bitte eine Zeichenkette eingeben: \");\n",
    "String s = sc.nextLine();\n",
    "\n",
    "System.out.println(\"Ihre Eingabe war: \" + s);"
   ]
  },
  {
   "cell_type": "code",
   "execution_count": 2,
   "metadata": {},
   "outputs": [
    {
     "name": "stdout",
     "output_type": "stream",
     "text": [
      "Bitte erste Zahl eingeben: 5\n",
      "Bitte zweite Zahl eingeben: 6\n",
      "Summe ist: 11\n",
      "Bitte eine Zeichenkette eingeben: Eingabe: \n"
     ]
    }
   ],
   "source": [
    "System.out.print(\"Bitte erste Zahl eingeben: \");\n",
    "int a = sc.nextInt();   // sc.nextDouble();\n",
    "\n",
    "System.out.print(\"Bitte zweite Zahl eingeben: \");\n",
    "int b = sc.nextInt();\n",
    "\n",
    "System.out.println(\"Summe ist: \" + (a + b));\n",
    "\n",
    "// Problem: Eingabe nicht möglich\n",
    "System.out.print(\"Bitte eine Zeichenkette eingeben: \");\n",
    "s = sc.nextLine();\n",
    "System.out.println(\"Eingabe: \" + s);"
   ]
  },
  {
   "cell_type": "code",
   "execution_count": 3,
   "metadata": {},
   "outputs": [
    {
     "name": "stdout",
     "output_type": "stream",
     "text": [
      "Bitte eine Zahl eingeben: 17\n",
      "Zahl: 17\n",
      "Bitte eine Zeichenkette eingeben: Yeah! :)\n",
      "Eingabe: Yeah! :)\n"
     ]
    }
   ],
   "source": [
    "// Lösung 1: zusätzliche nextLine-Aufrufe\n",
    "\n",
    "Scanner sc2 = new Scanner(System.in);\n",
    "\n",
    "System.out.print(\"Bitte eine Zahl eingeben: \");\n",
    "int a = sc2.nextInt();\n",
    "sc2.nextLine();\n",
    "System.out.println(\"Zahl: \" + a);\n",
    "\n",
    "System.out.print(\"Bitte eine Zeichenkette eingeben: \");\n",
    "s = sc2.nextLine();\n",
    "System.out.println(\"Eingabe: \" + s);"
   ]
  },
  {
   "cell_type": "code",
   "execution_count": 4,
   "metadata": {},
   "outputs": [
    {
     "name": "stdout",
     "output_type": "stream",
     "text": [
      "Bitte eine Zahl eingeben: 21\n",
      "Zahl: 21\n",
      "Bitte eine Zeichenkette eingeben: Klappt auch. :)\n",
      "Eingabe: Klappt auch. :)\n"
     ]
    }
   ],
   "source": [
    "// Lösung 2: nur nextLine und Integer.parseInt() verwenden\n",
    "\n",
    "System.out.print(\"Bitte eine Zahl eingeben: \");\n",
    "int a = Integer.parseInt(sc2.nextLine());   // Double.parseDouble(...)\n",
    "System.out.println(\"Zahl: \" + a);\n",
    "\n",
    "System.out.print(\"Bitte eine Zeichenkette eingeben: \");\n",
    "s = sc2.nextLine();\n",
    "System.out.println(\"Eingabe: \" + s);"
   ]
  },
  {
   "cell_type": "code",
   "execution_count": null,
   "metadata": {},
   "outputs": [],
   "source": [
    "// sc.close() schließt System.in für die JVM mit\n",
    "// daher nur ganz am Schluss eines Programms (oder auch gar nicht aufrufen)"
   ]
  }
 ],
 "metadata": {
  "kernelspec": {
   "display_name": "Java",
   "language": "java",
   "name": "java"
  },
  "language_info": {
   "codemirror_mode": "java",
   "file_extension": ".jshell",
   "mimetype": "text/x-java-source",
   "name": "Java",
   "pygments_lexer": "java",
   "version": "13.0.2+8"
  }
 },
 "nbformat": 4,
 "nbformat_minor": 2
}
