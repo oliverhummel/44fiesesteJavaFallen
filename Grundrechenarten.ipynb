{
 "cells": [
  {
   "cell_type": "code",
   "execution_count": 1,
   "metadata": {},
   "outputs": [],
   "source": [
    "int a, b, e;\n",
    "\n",
    "a = 3;\n",
    "b = 5;"
   ]
  },
  {
   "cell_type": "code",
   "execution_count": 2,
   "metadata": {},
   "outputs": [
    {
     "name": "stdout",
     "output_type": "stream",
     "text": [
      "a + b = 8\n"
     ]
    }
   ],
   "source": [
    "// Addition\n",
    "e = a + b;\n",
    "System.out.println(\"a + b = \" + e);"
   ]
  },
  {
   "cell_type": "code",
   "execution_count": 3,
   "metadata": {},
   "outputs": [
    {
     "name": "stdout",
     "output_type": "stream",
     "text": [
      "a - b = -2\n"
     ]
    }
   ],
   "source": [
    "// Subtraktion\n",
    "e = a - b;\n",
    "System.out.println(\"a - b = \" + e);"
   ]
  },
  {
   "cell_type": "code",
   "execution_count": 4,
   "metadata": {},
   "outputs": [
    {
     "name": "stdout",
     "output_type": "stream",
     "text": [
      "a * b = 15\n"
     ]
    }
   ],
   "source": [
    "// Multiplikation\n",
    "e = a * b;\n",
    "System.out.println(\"a * b = \" + e);"
   ]
  },
  {
   "cell_type": "code",
   "execution_count": 5,
   "metadata": {},
   "outputs": [
    {
     "name": "stdout",
     "output_type": "stream",
     "text": [
      "a / b = 0\n"
     ]
    }
   ],
   "source": [
    "// Division\n",
    "e = a / b;\n",
    "System.out.println(\"a / b = \" + e);"
   ]
  },
  {
   "cell_type": "code",
   "execution_count": 13,
   "metadata": {},
   "outputs": [
    {
     "name": "stdout",
     "output_type": "stream",
     "text": [
      "a % b = 3\n",
      "1\n"
     ]
    }
   ],
   "source": [
    "// Modulo -> Rest\n",
    "e = a % b;\n",
    "System.out.println(\"a % b = \" + e);\n",
    "\n",
    "System.out.println(7 % 3);"
   ]
  },
  {
   "cell_type": "code",
   "execution_count": 9,
   "metadata": {},
   "outputs": [
    {
     "name": "stdout",
     "output_type": "stream",
     "text": [
      "x / y = 0.6\n"
     ]
    }
   ],
   "source": [
    "// Fließkomma-Division\n",
    "double x, y, r;\n",
    "\n",
    "x = 3.0;\n",
    "y = 5.0;\n",
    "\n",
    "r = x / y;\n",
    "\n",
    "System.out.println(\"x / y = \" + r);"
   ]
  },
  {
   "cell_type": "code",
   "execution_count": 12,
   "metadata": {},
   "outputs": [
    {
     "name": "stdout",
     "output_type": "stream",
     "text": [
      "a / b = 0.6\n"
     ]
    }
   ],
   "source": [
    "// aufgebohrte int-Division\n",
    "r = (double) a / b;\n",
    "System.out.println(\"a / b = \" + r);"
   ]
  },
  {
   "cell_type": "code",
   "execution_count": null,
   "metadata": {},
   "outputs": [],
   "source": []
  }
 ],
 "metadata": {
  "kernelspec": {
   "display_name": "Java",
   "language": "java",
   "name": "java"
  },
  "language_info": {
   "codemirror_mode": "java",
   "file_extension": ".jshell",
   "mimetype": "text/x-java-source",
   "name": "Java",
   "pygments_lexer": "java",
   "version": "13.0.2+8"
  }
 },
 "nbformat": 4,
 "nbformat_minor": 2
}
